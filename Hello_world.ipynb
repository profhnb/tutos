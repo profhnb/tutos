{
 "cells": [
  {
   "cell_type": "code",
   "execution_count": 3,
   "id": "b2b3d0a0-2e54-4cad-a298-30baea0d6bb9",
   "metadata": {},
   "outputs": [
    {
     "name": "stdout",
     "output_type": "stream",
     "text": [
      "3.141592653589793\n"
     ]
    }
   ],
   "source": [
    "import math\n",
    "print(math.pi)"
   ]
  },
  {
   "cell_type": "code",
   "execution_count": 4,
   "id": "41057982-5331-4212-860d-5b0dffb39b76",
   "metadata": {},
   "outputs": [
    {
     "name": "stdout",
     "output_type": "stream",
     "text": [
      "Hello World\n"
     ]
    }
   ],
   "source": [
    "print(\"Hello World\")"
   ]
  },
  {
   "cell_type": "code",
   "execution_count": 6,
   "id": "5eb4195b-c848-4b41-96af-cea3e42b027c",
   "metadata": {},
   "outputs": [],
   "source": [
    "#!pip install earthengine-api --upgrade"
   ]
  },
  {
   "cell_type": "code",
   "execution_count": 7,
   "id": "ef30b64a-eba0-44bb-bf26-6b5f51574c42",
   "metadata": {},
   "outputs": [],
   "source": [
    "import ee"
   ]
  },
  {
   "cell_type": "code",
   "execution_count": 9,
   "id": "1d4621b3-5351-426b-ad8c-282838d60fba",
   "metadata": {},
   "outputs": [],
   "source": [
    "#ee.Authenticate()"
   ]
  },
  {
   "cell_type": "code",
   "execution_count": 10,
   "id": "1f5475c9-2352-41b6-be47-3854a82420ad",
   "metadata": {},
   "outputs": [
    {
     "name": "stdout",
     "output_type": "stream",
     "text": [
      "Hello from the Earth Engine servers!\n"
     ]
    }
   ],
   "source": [
    "ee.Initialize(project='ensino-sr-unesp-registro')\n",
    "print(ee.String('Hello from the Earth Engine servers!').getInfo())"
   ]
  },
  {
   "cell_type": "code",
   "execution_count": 12,
   "id": "943b4eff-b70d-482f-8f84-7057d3825079",
   "metadata": {},
   "outputs": [],
   "source": [
    "dataset = ee.ImageCollection('LANDSAT/LC08/C02/T1_TOA').filterDate('2017-01-01', '2017-12-31')"
   ]
  },
  {
   "cell_type": "code",
   "execution_count": 13,
   "id": "d4ce2313-05b7-4416-9347-cce2f669d81f",
   "metadata": {},
   "outputs": [
    {
     "data": {
      "text/plain": [
       "<ee.imagecollection.ImageCollection at 0x1bdd95cc580>"
      ]
     },
     "execution_count": 13,
     "metadata": {},
     "output_type": "execute_result"
    }
   ],
   "source": [
    "dataset"
   ]
  }
 ],
 "metadata": {
  "kernelspec": {
   "display_name": "Python 3 (ipykernel)",
   "language": "python",
   "name": "python3"
  },
  "language_info": {
   "codemirror_mode": {
    "name": "ipython",
    "version": 3
   },
   "file_extension": ".py",
   "mimetype": "text/x-python",
   "name": "python",
   "nbconvert_exporter": "python",
   "pygments_lexer": "ipython3",
   "version": "3.9.21"
  }
 },
 "nbformat": 4,
 "nbformat_minor": 5
}
